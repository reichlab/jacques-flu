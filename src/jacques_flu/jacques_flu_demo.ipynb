{
 "cells": [
  {
   "cell_type": "code",
   "execution_count": 1,
   "metadata": {},
   "outputs": [],
   "source": [
    "import numpy as np\n",
    "import pandas as pd\n",
    "import tensorflow as tf\n",
    "import tensorflow_probability as tfp\n",
    "import polars as pl\n",
    "\n",
    "import jacques\n",
    "from jacques import kcqe\n",
    "from data_pipeline.loader import FluDataLoader"
   ]
  },
  {
   "cell_type": "markdown",
   "metadata": {},
   "source": [
    "## Loading the Flu Data"
   ]
  },
  {
   "cell_type": "code",
   "execution_count": 2,
   "metadata": {},
   "outputs": [
    {
     "name": "stderr",
     "output_type": "stream",
     "text": [
      "/Users/bwrogers/Documents/Research/jacques_flu/.venv/lib/python3.12/site-packages/data_pipeline/loader.py:187: FutureWarning: DataFrame.fillna with 'method' is deprecated and will raise in a future version. Use obj.ffill() or obj.bfill() instead.\n",
      "  df[fill_cols] = df[fill_cols].fillna(axis=0, method='ffill')\n",
      "/Users/bwrogers/Documents/Research/jacques_flu/.venv/lib/python3.12/site-packages/data_pipeline/loader.py:187: FutureWarning: DataFrame.fillna with 'method' is deprecated and will raise in a future version. Use obj.ffill() or obj.bfill() instead.\n",
      "  df[fill_cols] = df[fill_cols].fillna(axis=0, method='ffill')\n",
      "/Users/bwrogers/Documents/Research/jacques_flu/.venv/lib/python3.12/site-packages/data_pipeline/loader.py:187: FutureWarning: DataFrame.fillna with 'method' is deprecated and will raise in a future version. Use obj.ffill() or obj.bfill() instead.\n",
      "  df[fill_cols] = df[fill_cols].fillna(axis=0, method='ffill')\n",
      "/Users/bwrogers/Documents/Research/jacques_flu/.venv/lib/python3.12/site-packages/data_pipeline/loader.py:187: FutureWarning: DataFrame.fillna with 'method' is deprecated and will raise in a future version. Use obj.ffill() or obj.bfill() instead.\n",
      "  df[fill_cols] = df[fill_cols].fillna(axis=0, method='ffill')\n",
      "/Users/bwrogers/Documents/Research/jacques_flu/.venv/lib/python3.12/site-packages/data_pipeline/loader.py:187: FutureWarning: DataFrame.fillna with 'method' is deprecated and will raise in a future version. Use obj.ffill() or obj.bfill() instead.\n",
      "  df[fill_cols] = df[fill_cols].fillna(axis=0, method='ffill')\n",
      "/Users/bwrogers/Documents/Research/jacques_flu/.venv/lib/python3.12/site-packages/data_pipeline/loader.py:187: FutureWarning: DataFrame.fillna with 'method' is deprecated and will raise in a future version. Use obj.ffill() or obj.bfill() instead.\n",
      "  df[fill_cols] = df[fill_cols].fillna(axis=0, method='ffill')\n",
      "/Users/bwrogers/Documents/Research/jacques_flu/.venv/lib/python3.12/site-packages/data_pipeline/loader.py:187: FutureWarning: DataFrame.fillna with 'method' is deprecated and will raise in a future version. Use obj.ffill() or obj.bfill() instead.\n",
      "  df[fill_cols] = df[fill_cols].fillna(axis=0, method='ffill')\n",
      "/Users/bwrogers/Documents/Research/jacques_flu/.venv/lib/python3.12/site-packages/data_pipeline/loader.py:187: FutureWarning: DataFrame.fillna with 'method' is deprecated and will raise in a future version. Use obj.ffill() or obj.bfill() instead.\n",
      "  df[fill_cols] = df[fill_cols].fillna(axis=0, method='ffill')\n",
      "/Users/bwrogers/Documents/Research/jacques_flu/.venv/lib/python3.12/site-packages/data_pipeline/loader.py:187: FutureWarning: DataFrame.fillna with 'method' is deprecated and will raise in a future version. Use obj.ffill() or obj.bfill() instead.\n",
      "  df[fill_cols] = df[fill_cols].fillna(axis=0, method='ffill')\n",
      "/Users/bwrogers/Documents/Research/jacques_flu/.venv/lib/python3.12/site-packages/data_pipeline/loader.py:187: FutureWarning: DataFrame.fillna with 'method' is deprecated and will raise in a future version. Use obj.ffill() or obj.bfill() instead.\n",
      "  df[fill_cols] = df[fill_cols].fillna(axis=0, method='ffill')\n",
      "/Users/bwrogers/Documents/Research/jacques_flu/.venv/lib/python3.12/site-packages/data_pipeline/loader.py:187: FutureWarning: DataFrame.fillna with 'method' is deprecated and will raise in a future version. Use obj.ffill() or obj.bfill() instead.\n",
      "  df[fill_cols] = df[fill_cols].fillna(axis=0, method='ffill')\n",
      "/Users/bwrogers/Documents/Research/jacques_flu/.venv/lib/python3.12/site-packages/data_pipeline/loader.py:187: FutureWarning: DataFrame.fillna with 'method' is deprecated and will raise in a future version. Use obj.ffill() or obj.bfill() instead.\n",
      "  df[fill_cols] = df[fill_cols].fillna(axis=0, method='ffill')\n",
      "/Users/bwrogers/Documents/Research/jacques_flu/.venv/lib/python3.12/site-packages/data_pipeline/loader.py:187: FutureWarning: DataFrame.fillna with 'method' is deprecated and will raise in a future version. Use obj.ffill() or obj.bfill() instead.\n",
      "  df[fill_cols] = df[fill_cols].fillna(axis=0, method='ffill')\n",
      "/Users/bwrogers/Documents/Research/jacques_flu/.venv/lib/python3.12/site-packages/data_pipeline/loader.py:187: FutureWarning: DataFrame.fillna with 'method' is deprecated and will raise in a future version. Use obj.ffill() or obj.bfill() instead.\n",
      "  df[fill_cols] = df[fill_cols].fillna(axis=0, method='ffill')\n",
      "/Users/bwrogers/Documents/Research/jacques_flu/.venv/lib/python3.12/site-packages/data_pipeline/loader.py:187: FutureWarning: DataFrame.fillna with 'method' is deprecated and will raise in a future version. Use obj.ffill() or obj.bfill() instead.\n",
      "  df[fill_cols] = df[fill_cols].fillna(axis=0, method='ffill')\n"
     ]
    }
   ],
   "source": [
    "# Load data\n",
    "fdl = FluDataLoader('data-raw')\n",
    "\n",
    "combined_dat = fdl.load_data(hhs_kwargs={'rates': True})"
   ]
  },
  {
   "cell_type": "code",
   "execution_count": 3,
   "metadata": {},
   "outputs": [],
   "source": [
    "state_dat = (pl.DataFrame(combined_dat).\n",
    "             filter((pl.col(\"agg_level\") == \"state\")).\n",
    "             select(['location', 'source', 'wk_end_date', 'inc_trans_cs'])).to_pandas()"
   ]
  },
  {
   "cell_type": "markdown",
   "metadata": {},
   "source": []
  },
  {
   "cell_type": "code",
   "execution_count": 9,
   "metadata": {},
   "outputs": [
    {
     "data": {
      "text/html": [
       "<div><style>\n",
       ".dataframe > thead > tr,\n",
       ".dataframe > tbody > tr {\n",
       "  text-align: right;\n",
       "  white-space: pre-wrap;\n",
       "}\n",
       "</style>\n",
       "<small>shape: (5, 4)</small><table border=\"1\" class=\"dataframe\"><thead><tr><th>location</th><th>source</th><th>wk_end_date</th><th>inc_trans_cs</th></tr><tr><td>str</td><td>str</td><td>datetime[ns]</td><td>f64</td></tr></thead><tbody><tr><td>&quot;06&quot;</td><td>&quot;flusurvnet&quot;</td><td>2010-10-09 00:00:00</td><td>-0.178518</td></tr><tr><td>&quot;06&quot;</td><td>&quot;flusurvnet&quot;</td><td>2010-10-16 00:00:00</td><td>-0.178518</td></tr><tr><td>&quot;06&quot;</td><td>&quot;flusurvnet&quot;</td><td>2010-10-23 00:00:00</td><td>-0.34235</td></tr><tr><td>&quot;06&quot;</td><td>&quot;flusurvnet&quot;</td><td>2010-10-30 00:00:00</td><td>-0.178518</td></tr><tr><td>&quot;06&quot;</td><td>&quot;flusurvnet&quot;</td><td>2010-11-06 00:00:00</td><td>-0.34235</td></tr></tbody></table></div>"
      ],
      "text/plain": [
       "shape: (5, 4)\n",
       "┌──────────┬────────────┬─────────────────────┬──────────────┐\n",
       "│ location ┆ source     ┆ wk_end_date         ┆ inc_trans_cs │\n",
       "│ ---      ┆ ---        ┆ ---                 ┆ ---          │\n",
       "│ str      ┆ str        ┆ datetime[ns]        ┆ f64          │\n",
       "╞══════════╪════════════╪═════════════════════╪══════════════╡\n",
       "│ 06       ┆ flusurvnet ┆ 2010-10-09 00:00:00 ┆ -0.178518    │\n",
       "│ 06       ┆ flusurvnet ┆ 2010-10-16 00:00:00 ┆ -0.178518    │\n",
       "│ 06       ┆ flusurvnet ┆ 2010-10-23 00:00:00 ┆ -0.34235     │\n",
       "│ 06       ┆ flusurvnet ┆ 2010-10-30 00:00:00 ┆ -0.178518    │\n",
       "│ 06       ┆ flusurvnet ┆ 2010-11-06 00:00:00 ┆ -0.34235     │\n",
       "└──────────┴────────────┴─────────────────────┴──────────────┘"
      ]
     },
     "execution_count": 9,
     "metadata": {},
     "output_type": "execute_result"
    }
   ],
   "source": [
    "state_dat.head()"
   ]
  },
  {
   "cell_type": "markdown",
   "metadata": {},
   "source": [
    "## Featurizing the Data\n",
    "\n",
    "We make use of the `timeseriesutils` module to featurize the data"
   ]
  }
 ],
 "metadata": {
  "kernelspec": {
   "display_name": ".venv",
   "language": "python",
   "name": "python3"
  },
  "language_info": {
   "codemirror_mode": {
    "name": "ipython",
    "version": 3
   },
   "file_extension": ".py",
   "mimetype": "text/x-python",
   "name": "python",
   "nbconvert_exporter": "python",
   "pygments_lexer": "ipython3",
   "version": "3.12.3"
  }
 },
 "nbformat": 4,
 "nbformat_minor": 2
}
